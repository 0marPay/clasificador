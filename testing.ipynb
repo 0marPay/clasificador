{
 "cells": [
  {
   "cell_type": "code",
   "execution_count": 1,
   "metadata": {},
   "outputs": [],
   "source": [
    "from ocr import ocr\n",
    "from draw import draw_image\n",
    "import cv2\n",
    "\n"
   ]
  },
  {
   "cell_type": "code",
   "execution_count": 8,
   "metadata": {},
   "outputs": [],
   "source": [
    "# Realizar análisis de OCR en la imagen\n",
    "path = 'resources/caratula.jpg'\n",
    "texts = ocr(path)['textAnnotations'][1::]\n",
    "\n",
    "# Cargar imagen a analizar\n",
    "img = cv2.imread(path)\n",
    "\n",
    "# Buscar frases completas en el texto OCR\n",
    "phrases = ['PLAZO']\n",
    "for text in texts:\n",
    "    for phrase in phrases:\n",
    "        start_index = text[\"description\"].find(phrase)\n",
    "        if start_index != -1:\n",
    "            print(\"la encontré, mano\")\n",
    "            # Obtener coordenadas de los vértices del texto\n",
    "            vertices = [(vertex.x, vertex.y) for vertex in text.bounding_poly.vertices]\n",
    "            # Dibujar rectángulo alrededor de la frase completa\n",
    "            cv2.rectangle(img, vertices[0], vertices[2], (0, 255, 0), 2)\n",
    "\n",
    "\n",
    "# Guardar imagen con las frases completas resaltadas\n",
    "# cv2.imwrite('resources/output.jpg', img)"
   ]
  },
  {
   "cell_type": "code",
   "execution_count": null,
   "metadata": {},
   "outputs": [],
   "source": []
  }
 ],
 "metadata": {
  "kernelspec": {
   "display_name": "Python 3",
   "language": "python",
   "name": "python3"
  },
  "language_info": {
   "codemirror_mode": {
    "name": "ipython",
    "version": 3
   },
   "file_extension": ".py",
   "mimetype": "text/x-python",
   "name": "python",
   "nbconvert_exporter": "python",
   "pygments_lexer": "ipython3",
   "version": "3.10.9"
  },
  "orig_nbformat": 4,
  "vscode": {
   "interpreter": {
    "hash": "3734fdfda91fe0d30ee6140311044a2260406c8b365711143039b1f5882aab33"
   }
  }
 },
 "nbformat": 4,
 "nbformat_minor": 2
}
